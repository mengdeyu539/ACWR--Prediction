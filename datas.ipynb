{
 "cells": [
  {
   "cell_type": "code",
   "execution_count": 25,
   "id": "c1ace165-0dc9-46fa-8f3d-da02ebaf8d1a",
   "metadata": {},
   "outputs": [],
   "source": [
    "import pandas as pd\n",
    "import numpy as np\n",
    "import os\n",
    "from scipy.signal import welch\n",
    "\n",
    "from tqdm import tqdm\n",
    "from datetime import datetime\n",
    "import shutil\n",
    "from geopy.distance import geodesic"
   ]
  },
  {
   "cell_type": "code",
   "execution_count": 26,
   "id": "9db02f55-7640-4cf3-9348-6cc9cf3e2afe",
   "metadata": {},
   "outputs": [
    {
     "data": {
      "text/plain": [
       "0.0"
      ]
     },
     "execution_count": 26,
     "metadata": {},
     "output_type": "execute_result"
    }
   ],
   "source": [
    "def movement_ratios(df):\n",
    "    try:\n",
    "        df['time'] = pd.to_datetime(df['time'])\n",
    "        total_time = (df['time'].iloc[-1] - df['time'].iloc[0]).total_seconds()\n",
    "\n",
    "        active_time = (df['speed'] > 0).sum() / 100  # 10Hz 采样，每 10 个点代表 1 秒\n",
    "\n",
    "\n",
    "        movement_ratio = active_time / total_time if total_time > 0 else 0\n",
    "        return movement_ratio\n",
    "    except:\n",
    "        return np.nan\n",
    "#movement_ratios(dfs)"
   ]
  },
  {
   "cell_type": "code",
   "execution_count": 27,
   "id": "b219684b-93d0-4799-9e4b-122377009dc0",
   "metadata": {},
   "outputs": [
    {
     "name": "stderr",
     "output_type": "stream",
     "text": [
      "/tmp/ipykernel_2093610/3540480073.py:9: FutureWarning: using <function heart.<locals>.<lambda> at 0x7f9e1432fb50> in Series.agg cannot aggregate and has been deprecated. Use Series.transform to keep behavior unchanged.\n",
      "  result = df.agg(\n"
     ]
    },
    {
     "data": {
      "text/plain": [
       "(nan, nan, nan, nan)"
      ]
     },
     "execution_count": 27,
     "metadata": {},
     "output_type": "execute_result"
    }
   ],
   "source": [
    "def heart(df):\n",
    "    try:\n",
    "        df = df[df['speed'] > 0].copy()\n",
    "\n",
    "\n",
    "        df['heart_rate_diff'] = df['heart_rate'].diff()\n",
    "\n",
    "        result = df.agg(\n",
    "            mean_heart_rate=('heart_rate', 'mean'),  \n",
    "            max_heart_rate=('heart_rate', 'max'),     \n",
    "            min_heart_rate=('heart_rate', 'min'),     \n",
    "            sdnn=('heart_rate', 'std'),              \n",
    "            rmssd=('heart_rate_diff', lambda x: np.sqrt(np.mean(x.dropna()**2))) \n",
    "        )\n",
    "        return result['heart_rate']['mean_heart_rate'], result['heart_rate']['max_heart_rate'], result['heart_rate']['min_heart_rate'], result['heart_rate']['sdnn'], \n",
    "    except:\n",
    "        return np.nan, np.nan, np.nan, np.nan\n",
    "#heart(dfs)"
   ]
  },
  {
   "cell_type": "code",
   "execution_count": 28,
   "id": "d0104d4d-cf06-43c9-aab1-f566921a25e9",
   "metadata": {},
   "outputs": [
    {
     "data": {
      "text/plain": [
       "0.0"
      ]
     },
     "execution_count": 28,
     "metadata": {},
     "output_type": "execute_result"
    }
   ],
   "source": [
    "def haversine_distance(lat1, lon1, lat2, lon2):\n",
    "   # \"\"\"计算两点间球面距离（单位：米）\"\"\"\n",
    "    return geodesic((lat1, lon1), (lat2, lon2)).meters\n",
    "def total_distance(df):\n",
    "    try:\n",
    "        df = df[df['speed'] > 0].copy()\n",
    "        df['prev_lat'] = df['lat'].shift()\n",
    "        df['prev_lon'] = df['lon'].shift()\n",
    "\n",
    "        df['distance'] = df.apply(lambda row: haversine_distance(row['prev_lat'], row['prev_lon'], row['lat'], row['lon'])\n",
    "                                  if pd.notnull(row['prev_lat']) else 0, axis=1)\n",
    "\n",
    "        total_distance = df['distance'].sum()  \n",
    "        return total_distance\n",
    "    except:\n",
    "        return np.nan\n",
    "#total_distance(dfs)"
   ]
  },
  {
   "cell_type": "code",
   "execution_count": 29,
   "id": "69b3a5c5-c207-4eb3-b031-da5cfb5a42bc",
   "metadata": {},
   "outputs": [
    {
     "data": {
      "text/plain": [
       "(nan, nan, nan)"
      ]
     },
     "execution_count": 29,
     "metadata": {},
     "output_type": "execute_result"
    }
   ],
   "source": [
    "def speeds(df):\n",
    "    try:\n",
    "        df = df[df['speed'] > 0].copy()\n",
    "        mean_speed = df['speed'].mean()\n",
    "        max_speed = df['speed'].max()\n",
    "        var_speed = df['speed'].var()\n",
    "        return mean_speed, max_speed, var_speed\n",
    "    except:\n",
    "        return np.nan, np.nan, np.nan\n",
    "#speeds(dfs)"
   ]
  },
  {
   "cell_type": "code",
   "execution_count": 30,
   "id": "3b17e4ff-f546-4426-9cfe-8bf66ea5e38f",
   "metadata": {},
   "outputs": [
    {
     "data": {
      "text/plain": [
       "(nan, nan, nan, 0)"
      ]
     },
     "execution_count": 30,
     "metadata": {},
     "output_type": "execute_result"
    }
   ],
   "source": [
    "def accelerations(df):\n",
    "    try:\n",
    "        df = df[df['speed'] > 0].copy()\n",
    "        mean_acceleration = df['inst_acc_impulse'].mean()\n",
    "        max_acceleration = df['inst_acc_impulse'].max()\n",
    "        var_acceleration = df['inst_acc_impulse'].var()\n",
    "        shock_count = (df['inst_acc_impulse'] > 2).sum()\n",
    "        return mean_acceleration, max_acceleration, var_acceleration, shock_count\n",
    "    except:\n",
    "        return np.nan, np.nan, np.nan, np.nan\n",
    "#accelerations(dfs)"
   ]
  },
  {
   "cell_type": "code",
   "execution_count": 31,
   "id": "7a6fdd73-3abe-4c4e-bc12-6b6966cc0af2",
   "metadata": {},
   "outputs": [
    {
     "data": {
      "text/plain": [
       "(nan, nan, 0)"
      ]
     },
     "execution_count": 31,
     "metadata": {},
     "output_type": "execute_result"
    }
   ],
   "source": [
    "def accel_vector(df):\n",
    "    try:\n",
    "        df = df[df['speed'] > 0].copy()\n",
    "        df['accel_vector'] = np.sqrt(df['accl_x']**2 + df['accl_y']**2 + df['accl_z']**2)\n",
    "        mean_accel_vector = df['accel_vector'].mean()\n",
    "        var_accel_vector = df['accel_vector'].var()\n",
    "        jump_count = ((df['accl_z'] > 1.5) & (df['accl_z'] < 3)).sum()\n",
    "        return mean_accel_vector, var_accel_vector, jump_count\n",
    "    except:\n",
    "        return np.nan, np.nan, np.nan\n",
    "#accel_vector(dfs)"
   ]
  },
  {
   "cell_type": "code",
   "execution_count": 32,
   "id": "599d2c78-65d5-4962-9607-9acfd75402d2",
   "metadata": {},
   "outputs": [
    {
     "data": {
      "text/plain": [
       "(nan, nan)"
      ]
     },
     "execution_count": 32,
     "metadata": {},
     "output_type": "execute_result"
    }
   ],
   "source": [
    "import numpy as np\n",
    "def gyro_vector(df):\n",
    "    try:\n",
    "        df = df[df['speed'] > 0].copy()\n",
    "        df['gyro_vector'] = np.sqrt(df['gyro_x']**2 + df['gyro_y']**2 + df['gyro_z']**2)\n",
    "        mean_gyro_vector = df['gyro_vector'].mean()\n",
    "        var_gyro_vector = df['gyro_vector'].var()\n",
    "        return mean_gyro_vector, var_gyro_vector\n",
    "    except:\n",
    "        return np.nan, np.nan\n",
    "#gyro_vector(dfs)"
   ]
  },
  {
   "cell_type": "code",
   "execution_count": 36,
   "id": "a57285b7-ec51-4e8f-8db7-eb09aec2fb86",
   "metadata": {},
   "outputs": [
    {
     "data": {
      "text/plain": [
       "0"
      ]
     },
     "execution_count": 36,
     "metadata": {},
     "output_type": "execute_result"
    }
   ],
   "source": [
    "import os\n",
    "import pandas as pd\n",
    "from datetime import datetime\n",
    "\n",
    "data_folder = \"datas\"\n",
    "\n",
    "# 目标运动员 ID 和队伍名称\n",
    "athlete_ids = os.listdir('acwr/')\n",
    "existing = os.listdir('timeseries/')\n",
    "athlete_ids = [i for i in athlete_ids if i.endswith('.csv') and i not in existing]\n",
    "#len(athlete_ids)"
   ]
  },
  {
   "cell_type": "code",
   "execution_count": null,
   "id": "3cdbce9d-73c7-42aa-ac6f-6074870eb8e6",
   "metadata": {},
   "outputs": [],
   "source": [
    "all_files = os.listdir(data_folder)\n",
    "\n",
    "for athlete_file in tqdm(athlete_ids):\n",
    "    movement_ratio = []\n",
    "    dates = []\n",
    "    mean_speeds, max_speeds, var_speeds = [], [], []\n",
    "    mean_hrs, max_hrs, min_hrs, sdnn_hrs = [], [], [], []\n",
    "    total_distances = []\n",
    "    mean_accelerations, max_accelerations, var_accelerations, shock_counts = [], [], [], []\n",
    "    mean_gyro_vectors, var_gyro_vectors = [], []\n",
    "    fea_df = pd.DataFrame()\n",
    "    athlete_id = os.path.splitext(athlete_file)[0]\n",
    "    athlete_files = []\n",
    "    for file in all_files:\n",
    "        date = file.split('.')[0].replace(f'-{athlete_id}', '')\n",
    "        if file.endswith(\".parquet\") and athlete_id in file:\n",
    "            try:\n",
    "                df = pd.read_parquet(os.path.join(data_folder, file))\n",
    "                if len(df)>20000:\n",
    "                    df['time'] = pd.to_datetime(df['time'])\n",
    "                    movement_ratio.append(movement_ratios(df))\n",
    "                    mean_hrs.append(heart(df)[0])\n",
    "                    max_hrs.append(heart(df)[1])\n",
    "                    min_hrs.append(heart(df)[2])\n",
    "                    sdnn_hrs.append(heart(df)[3])\n",
    "                    total_distances.append(total_distance(df))\n",
    "                    mean_speeds.append(speeds(df)[0])\n",
    "                    max_speeds.append(speeds(df)[1])\n",
    "                    var_speeds.append(speeds(df)[2])\n",
    "                    mean_accelerations.append(accelerations(df)[0])\n",
    "                    max_accelerations.append(accelerations(df)[1])\n",
    "                    var_accelerations.append(accelerations(df)[2])\n",
    "                    shock_counts.append(accelerations(df)[3])\n",
    "                    mean_gyro_vectors.append(gyro_vector(df)[0])\n",
    "                    var_gyro_vectors.append(gyro_vector(df)[1])\n",
    "                    dates.append(date)\n",
    "            except:\n",
    "                print(file)\n",
    "                pass\n",
    "    fea_df = pd.DataFrame({\n",
    "        \"Date\": dates,\n",
    "        \"Movement_Ratio\": movement_ratio,\n",
    "        \"Mean_HR\": mean_hrs,\n",
    "        \"Max_HR\": max_hrs,\n",
    "        \"Min_HR\": min_hrs,\n",
    "        \"SDNN_HR\": sdnn_hrs,\n",
    "        \"Total_Distance\": total_distances,\n",
    "        \"Mean_Speed\": mean_speeds,\n",
    "        \"Max_Speed\": max_speeds,\n",
    "        \"Var_Speed\": var_speeds,\n",
    "        \"Mean_Acceleration\": mean_accelerations,\n",
    "        \"Max_Acceleration\": max_accelerations,\n",
    "        \"Var_Acceleration\": var_accelerations,\n",
    "        \"Shock_Count\": shock_counts,\n",
    "        \"Mean_Gyro_Vector\": mean_gyro_vectors,\n",
    "        \"Var_Gyro_Vector\": var_gyro_vectors\n",
    "    })\n",
    " \n",
    "    fea_df['Date'] = fea_df['Date'].astype(str).str.replace('_1', '', regex=False)\n",
    "    fea_df = fea_df.drop_duplicates(subset='Date', ignore_index=True)\n",
    "    fea_df[\"Date\"] = pd.to_datetime(fea_df[\"Date\"]).dt.strftime(\"%d.%m.%Y\")\n",
    "    fea_df = fea_df.sort_values(by=\"Date\").reset_index(drop=True)\n",
    "    data = pd.read_csv(f'awcr/{athlete_file}')\n",
    "    datas = pd.merge(data, fea_df, on='Date', how='outer')\n",
    "    output_file = os.path.join('timeseries', athlete_file)\n",
    "    datas.to_csv(output_file, index=False)\n",
    "    #break\n",
    "            \n",
    "            \n"
   ]
  },
  {
   "cell_type": "code",
   "execution_count": 26,
   "id": "46383736-ee2b-4f31-87e8-07d18dfd9e4d",
   "metadata": {},
   "outputs": [],
   "source": [
    "fea_df = pd.DataFrame({\n",
    "    \"Date\": dates,\n",
    "    \"Movement_Ratio\": movement_ratio[1:],\n",
    "    \"Mean_HR\": mean_hrs,\n",
    "    \"Max_HR\": max_hrs,\n",
    "    \"Min_HR\": min_hrs,\n",
    "    \"SDNN_HR\": sdnn_hrs,\n",
    "    \"Total_Distance\": total_distances,\n",
    "    \"Mean_Speed\": mean_speeds,\n",
    "    \"Max_Speed\": max_speeds,\n",
    "    \"Var_Speed\": var_speeds,\n",
    "    \"Mean_Acceleration\": mean_accelerations,\n",
    "    \"Max_Acceleration\": max_accelerations,\n",
    "    \"Var_Acceleration\": var_accelerations,\n",
    "    \"Shock_Count\": shock_counts,\n",
    "    \"Mean_Gyro_Vector\": mean_gyro_vectors,\n",
    "    \"Var_Gyro_Vector\": var_gyro_vectors\n",
    "})\n",
    "\n",
    "fea_df['Date'] = fea_df['Date'].astype(str).str.replace('_1', '', regex=False)\n",
    "fea_df = fea_df.drop_duplicates(subset='Date', ignore_index=True)\n",
    "fea_df[\"Date\"] = pd.to_datetime(fea_df[\"Date\"]).dt.strftime(\"%d.%m.%Y\")\n",
    "fea_df = fea_df.sort_values(by=\"Date\").reset_index(drop=True)\n",
    "data = pd.read_csv(f'awcr/{athlete_file}')\n",
    "datas = pd.merge(data, fea_df, on='Date', how='outer')\n",
    "output_file = os.path.join('timeseries', athlete_file)\n",
    "datas.to_csv(output_file, index=False)"
   ]
  }
 ],
 "metadata": {
  "kernelspec": {
   "display_name": "Python 3 (ipykernel)",
   "language": "python",
   "name": "python3"
  },
  "language_info": {
   "codemirror_mode": {
    "name": "ipython",
    "version": 3
   },
   "file_extension": ".py",
   "mimetype": "text/x-python",
   "name": "python",
   "nbconvert_exporter": "python",
   "pygments_lexer": "ipython3",
   "version": "3.8.18"
  }
 },
 "nbformat": 4,
 "nbformat_minor": 5
}
